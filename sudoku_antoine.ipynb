{
 "cells": [
  {
   "cell_type": "code",
   "execution_count": 1,
   "id": "39c74d9e",
   "metadata": {},
   "outputs": [],
   "source": [
    "sudoku_grid_impossible = [\n",
    "    [5, 3, 4, 6, 7, 8, 9, 1, 2],\n",
    "    [6, 7, 2, 1, 9, 0, 3, 4, 9],\n",
    "    [1, 0, 0, 3, 4, 2, 5, 6, 0],\n",
    "    [8, 5, 9, 7, 6, 1, 0, 2, 0],\n",
    "    [4, 2, 6, 8, 5, 3, 7, 9, 1],\n",
    "    [7, 1, 3, 9, 2, 4, 8, 5, 6],\n",
    "    [9, 0, 1, 5, 3, 7, 2, 1, 4],\n",
    "    [2, 8, 7, 4, 1, 9, 6, 3, 5],\n",
    "    [3, 0, 0, 4, 8, 1, 1, 7, 9]\n",
    "]\n",
    "sudoku_grid_true = [\n",
    "    [5, 3, 0, 0, 7, 0, 0, 0, 0],\n",
    "    [6, 0, 0, 1, 9, 5, 0, 0, 0],\n",
    "    [0, 9, 8, 0, 0, 0, 0, 6, 0],\n",
    "    [8, 0, 0, 0, 6, 0, 0, 0, 3],\n",
    "    [4, 0, 0, 8, 0, 3, 0, 0, 1],\n",
    "    [7, 0, 0, 0, 2, 0, 0, 0, 6],\n",
    "    [0, 6, 0, 0, 0, 0, 2, 8, 0],\n",
    "    [0, 0, 0, 4, 1, 9, 0, 0, 5],\n",
    "    [0, 0, 0, 0, 8, 0, 0, 7, 9]\n",
    "]\n"
   ]
  },
  {
   "cell_type": "code",
   "execution_count": 2,
   "id": "f9a78fb7",
   "metadata": {},
   "outputs": [
    {
     "data": {
      "text/plain": [
       "False"
      ]
     },
     "execution_count": 2,
     "metadata": {},
     "output_type": "execute_result"
    }
   ],
   "source": [
    "def sudoku_checker_ligne(grid):\n",
    "    for i in range(9):\n",
    "        ma_ligne= grid[i]\n",
    "        if sorted(ma_ligne) !=[1,2,3,4,5,6,7,8,9]:\n",
    "            return False\n",
    "    return True\n",
    "sudoku_checker_ligne(sudoku_grid_true)"
   ]
  },
  {
   "cell_type": "code",
   "execution_count": 3,
   "id": "697cc326",
   "metadata": {},
   "outputs": [
    {
     "data": {
      "text/plain": [
       "False"
      ]
     },
     "execution_count": 3,
     "metadata": {},
     "output_type": "execute_result"
    }
   ],
   "source": [
    "def sudoku_checker_col(grid):\n",
    "    for j in range (9):\n",
    "        check_col = []\n",
    "        for i in range (9):\n",
    "            check_col.append(grid[i][j])\n",
    "        if sorted(check_col) !=[1,2,3,4,5,6,7,8,9]:\n",
    "            return False\n",
    "        return True\n",
    "sudoku_checker_col(sudoku_grid_true)"
   ]
  },
  {
   "cell_type": "code",
   "execution_count": 4,
   "id": "17741af6",
   "metadata": {},
   "outputs": [],
   "source": [
    "def sudoku_checker_carre(grid):\n",
    "    for i in range(0,9,3):\n",
    "        for j in range(0,9,3):\n",
    "            carre = []\n",
    "            for k in range(3):\n",
    "                for l in range(3):\n",
    "                    carre.append(grid[i+k][j+l])\n",
    "            if sorted(carre) == [1,2,3,4,5,6,7,8,9]:\n",
    "                return carre\n",
    "sudoku_checker_carre(sudoku_grid_true)"
   ]
  },
  {
   "cell_type": "code",
   "execution_count": 5,
   "id": "937b9337",
   "metadata": {},
   "outputs": [],
   "source": [
    "def check_number(grid,i,j,k):\n",
    "    for x in range(9):\n",
    "        if grid[i][x] == k:\n",
    "            return False\n",
    "        \n",
    "    for y in range(9):\n",
    "        if grid[y][j] == k:\n",
    "            return False\n",
    "        \n",
    "    first_row = i - (i % 3)\n",
    "    first_col = j - (j % 3)\n",
    "    for z in range(3):\n",
    "        for h in range(3):\n",
    "            if grid[first_row + z][first_col + h] == k:\n",
    "                return False\n",
    "    return True"
   ]
  },
  {
   "cell_type": "code",
   "execution_count": 6,
   "id": "8f6a1ffb",
   "metadata": {},
   "outputs": [],
   "source": [
    "def print_sudo(grid):\n",
    "    for x in range(9):\n",
    "        if x % 3 == 0 and x != 0:\n",
    "            print(\"-\" * 21)\n",
    "        for y in range(9):\n",
    "            if y % 3 == 0 and y != 0:\n",
    "                print(\"|\", end=\" \")\n",
    "            print(grid[x][y], end = \" \")\n",
    "        print()"
   ]
  },
  {
   "cell_type": "code",
   "execution_count": 7,
   "id": "b232dc6d",
   "metadata": {},
   "outputs": [],
   "source": [
    "def valid_sudoku(grid):\n",
    "    return sudoku_checker_ligne and sudoku_checker_col and sudoku_checker_carre"
   ]
  },
  {
   "cell_type": "code",
   "execution_count": 8,
   "id": "a05858f4",
   "metadata": {},
   "outputs": [],
   "source": [
    "def sudoku_solver2(grid):\n",
    "    for i in range(9):\n",
    "        for j in range(9):\n",
    "            if grid[i][j] == 0:\n",
    "                for k in range(1, 10):\n",
    "                    if check_number(grid, i, j, k):\n",
    "                        grid[i][j] = k\n",
    "                        if sudoku_solver2(grid):\n",
    "                            return True\n",
    "                        grid[i][j] = 0\n",
    "                return False\n",
    "    return True"
   ]
  },
  {
   "cell_type": "code",
   "execution_count": 9,
   "id": "fd074143",
   "metadata": {},
   "outputs": [],
   "source": [
    "def sudoku_result(grid):\n",
    "    if sudoku_solver2(grid):\n",
    "        if valid_sudoku(grid):\n",
    "            print(\"Grille compléte et valide\")\n",
    "            print_sudo(grid)\n",
    "        else:\n",
    "            print(\"Grille compléte mais invalide\")\n",
    "    else:\n",
    "        print(\"Changez la grille celle ci ne peut être résolue ksos.\")"
   ]
  },
  {
   "cell_type": "code",
   "execution_count": 10,
   "id": "b9468f37",
   "metadata": {},
   "outputs": [
    {
     "name": "stdout",
     "output_type": "stream",
     "text": [
      "Grille compléte et valide\n",
      "5 3 4 | 6 7 8 | 9 1 2 \n",
      "6 7 2 | 1 9 5 | 3 4 8 \n",
      "1 9 8 | 3 4 2 | 5 6 7 \n",
      "---------------------\n",
      "8 5 9 | 7 6 1 | 4 2 3 \n",
      "4 2 6 | 8 5 3 | 7 9 1 \n",
      "7 1 3 | 9 2 4 | 8 5 6 \n",
      "---------------------\n",
      "9 6 1 | 5 3 7 | 2 8 4 \n",
      "2 8 7 | 4 1 9 | 6 3 5 \n",
      "3 4 5 | 2 8 6 | 1 7 9 \n"
     ]
    }
   ],
   "source": [
    "sudoku_result(sudoku_grid_true)"
   ]
  },
  {
   "cell_type": "code",
   "execution_count": null,
   "id": "7637452b",
   "metadata": {},
   "outputs": [],
   "source": []
  }
 ],
 "metadata": {
  "kernelspec": {
   "display_name": "Python 3 (ipykernel)",
   "language": "python",
   "name": "python3"
  },
  "language_info": {
   "codemirror_mode": {
    "name": "ipython",
    "version": 3
   },
   "file_extension": ".py",
   "mimetype": "text/x-python",
   "name": "python",
   "nbconvert_exporter": "python",
   "pygments_lexer": "ipython3",
   "version": "3.10.6"
  }
 },
 "nbformat": 4,
 "nbformat_minor": 5
}
